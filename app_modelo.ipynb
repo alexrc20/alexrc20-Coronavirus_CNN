{
 "cells": [
  {
   "cell_type": "markdown",
   "metadata": {},
   "source": [
    "# App_modelo: Validación de los resultados del modelo\n",
    "#### Autor: Alejandro Romero del Campo\n",
    "\n",
    "\n",
    "Este script compone la etapa final del proceso. Toma el modelo creado en el script modelo y mediante una foto (externa al proceso de creacion del modelo) validará su funcionamiento."
   ]
  },
  {
   "cell_type": "markdown",
   "metadata": {},
   "source": [
    "Primero mediante la función load_model cargamos el modelo.\n",
    "\n",
    "Después, debe existir un directorio en el mismo lugar que este script que se llame \"validacion\" en el que se encuentre la imagen a validar.\n",
    "\n",
    "\n"
   ]
  },
  {
   "cell_type": "code",
   "execution_count": 1,
   "metadata": {},
   "outputs": [
    {
     "output_type": "stream",
     "name": "stderr",
     "text": "Using TensorFlow backend.\nWARNING:tensorflow:From /Users/alejandroromerodelcampo/opt/anaconda3/lib/python3.7/site-packages/keras/backend/tensorflow_backend.py:4070: The name tf.nn.max_pool is deprecated. Please use tf.nn.max_pool2d instead.\n\nWARNING:tensorflow:From /Users/alejandroromerodelcampo/opt/anaconda3/lib/python3.7/site-packages/tensorflow/python/ops/math_grad.py:1250: add_dispatch_support.<locals>.wrapper (from tensorflow.python.ops.array_ops) is deprecated and will be removed in a future version.\nInstructions for updating:\nUse tf.where in 2.0, which has the same broadcast rule as np.where\nWARNING:tensorflow:From /Users/alejandroromerodelcampo/opt/anaconda3/lib/python3.7/site-packages/keras/backend/tensorflow_backend.py:422: The name tf.global_variables is deprecated. Please use tf.compat.v1.global_variables instead.\n\n"
    }
   ],
   "source": [
    "from keras.models import load_model\n",
    "import matplotlib.image as mpimg \n",
    "\n",
    "from keras.preprocessing.image import ImageDataGenerator\n",
    "from keras import layers\n",
    "from keras import models\n",
    "from PIL import Image\n",
    "import numpy as np\n",
    "\n",
    "import sys\n",
    "import os\n",
    "\n",
    "\n",
    "model = load_model('my_model.h5')\n",
    "\n",
    "base_dir = './validacion'\n",
    "\n",
    "dir_dartos = './coronavirus'\n",
    "\n",
    "# Directories for our training,\n",
    "# validation and test splits\n",
    "foto_dir = os.path.join(base_dir, 'foto')\n",
    "train_dir = os.path.join(dir_dartos, 'train')"
   ]
  },
  {
   "cell_type": "markdown",
   "metadata": {},
   "source": [
    "Reescalamos la imagen de validacion, de la misma forma que hicimos al crear el modelo y mediante un datagen, extraeremos las caracteristicas de la imagen.\n",
    "\n",
    "Finalemente mediante la función predict, extraeremos los valores de probabilidades de que la imagen peretenezca a cada clase.\n"
   ]
  },
  {
   "cell_type": "code",
   "execution_count": 2,
   "metadata": {},
   "outputs": [
    {
     "output_type": "stream",
     "name": "stdout",
     "text": "Found 0 images belonging to 0 classes.\n"
    },
    {
     "output_type": "error",
     "ename": "AttributeError",
     "evalue": "'list' object has no attribute 'shape'",
     "traceback": [
      "\u001b[0;31m---------------------------------------------------------------------------\u001b[0m",
      "\u001b[0;31mAttributeError\u001b[0m                            Traceback (most recent call last)",
      "\u001b[0;32m<ipython-input-2-2121e1b392fb>\u001b[0m in \u001b[0;36m<module>\u001b[0;34m\u001b[0m\n\u001b[1;32m     18\u001b[0m \u001b[0;34m\u001b[0m\u001b[0m\n\u001b[1;32m     19\u001b[0m \u001b[0;34m\u001b[0m\u001b[0m\n\u001b[0;32m---> 20\u001b[0;31m \u001b[0my\u001b[0m \u001b[0;34m=\u001b[0m\u001b[0mmodel\u001b[0m\u001b[0;34m.\u001b[0m\u001b[0mpredict_classes\u001b[0m\u001b[0;34m(\u001b[0m\u001b[0mdata_batch\u001b[0m\u001b[0;34m)\u001b[0m\u001b[0;34m\u001b[0m\u001b[0;34m\u001b[0m\u001b[0m\n\u001b[0m",
      "\u001b[0;32m~/opt/anaconda3/lib/python3.7/site-packages/keras/engine/sequential.py\u001b[0m in \u001b[0;36mpredict_classes\u001b[0;34m(self, x, batch_size, verbose)\u001b[0m\n\u001b[1;32m    267\u001b[0m         \"\"\"\n\u001b[1;32m    268\u001b[0m         \u001b[0mproba\u001b[0m \u001b[0;34m=\u001b[0m \u001b[0mself\u001b[0m\u001b[0;34m.\u001b[0m\u001b[0mpredict\u001b[0m\u001b[0;34m(\u001b[0m\u001b[0mx\u001b[0m\u001b[0;34m,\u001b[0m \u001b[0mbatch_size\u001b[0m\u001b[0;34m=\u001b[0m\u001b[0mbatch_size\u001b[0m\u001b[0;34m,\u001b[0m \u001b[0mverbose\u001b[0m\u001b[0;34m=\u001b[0m\u001b[0mverbose\u001b[0m\u001b[0;34m)\u001b[0m\u001b[0;34m\u001b[0m\u001b[0;34m\u001b[0m\u001b[0m\n\u001b[0;32m--> 269\u001b[0;31m         \u001b[0;32mif\u001b[0m \u001b[0mproba\u001b[0m\u001b[0;34m.\u001b[0m\u001b[0mshape\u001b[0m\u001b[0;34m[\u001b[0m\u001b[0;34m-\u001b[0m\u001b[0;36m1\u001b[0m\u001b[0;34m]\u001b[0m \u001b[0;34m>\u001b[0m \u001b[0;36m1\u001b[0m\u001b[0;34m:\u001b[0m\u001b[0;34m\u001b[0m\u001b[0;34m\u001b[0m\u001b[0m\n\u001b[0m\u001b[1;32m    270\u001b[0m             \u001b[0;32mreturn\u001b[0m \u001b[0mproba\u001b[0m\u001b[0;34m.\u001b[0m\u001b[0margmax\u001b[0m\u001b[0;34m(\u001b[0m\u001b[0maxis\u001b[0m\u001b[0;34m=\u001b[0m\u001b[0;34m-\u001b[0m\u001b[0;36m1\u001b[0m\u001b[0;34m)\u001b[0m\u001b[0;34m\u001b[0m\u001b[0;34m\u001b[0m\u001b[0m\n\u001b[1;32m    271\u001b[0m         \u001b[0;32melse\u001b[0m\u001b[0;34m:\u001b[0m\u001b[0;34m\u001b[0m\u001b[0;34m\u001b[0m\u001b[0m\n",
      "\u001b[0;31mAttributeError\u001b[0m: 'list' object has no attribute 'shape'"
     ]
    }
   ],
   "source": [
    "foto_datagen = ImageDataGenerator(rescale=1./255)\n",
    "\n",
    "batch_size = 10\n",
    "\n",
    "foto_generator = foto_datagen.flow_from_directory(\n",
    "        # This is the target directory\n",
    "        foto_dir,\n",
    "        # All images will be resized to 150x150\n",
    "        target_size=(50, 50),\n",
    "        batch_size=batch_size,\n",
    "        # Since we use binary_crossentropy loss, we need binary labels\n",
    "        class_mode=None)\n",
    "\n",
    "\n",
    "for data_batch in foto_generator:\n",
    "    #print('data batch shape:', data_batch.shape)\n",
    "    break\n",
    "\n",
    "\n",
    "y =model.predict_classes(data_batch)"
   ]
  },
  {
   "cell_type": "markdown",
   "metadata": {},
   "source": [
    "Si queremos obtener el nombre de la clase y no solo su probabilidad, deberemos obetener el nombre del directorio al que peretenece esa clase."
   ]
  },
  {
   "cell_type": "markdown",
   "metadata": {},
   "source": [
    "Representaremos los resultados de forma gráfica mediante la librería pygame.\n",
    "\n",
    "Esta librería permite crear una ventana interactiva con texto que nos imprima el nombre del directorio de la clase que posee mayor probabilidad (nombre de la clase que predice el modelo)"
   ]
  },
  {
   "cell_type": "code",
   "execution_count": 3,
   "metadata": {},
   "outputs": [
    {
     "output_type": "stream",
     "name": "stdout",
     "text": "pygame 1.9.6\nHello from the pygame community. https://www.pygame.org/contribute.html\n"
    },
    {
     "output_type": "error",
     "ename": "NameError",
     "evalue": "name 'y' is not defined",
     "traceback": [
      "\u001b[0;31m---------------------------------------------------------------------------\u001b[0m",
      "\u001b[0;31mNameError\u001b[0m                                 Traceback (most recent call last)",
      "\u001b[0;32m<ipython-input-3-b7ff9607717a>\u001b[0m in \u001b[0;36m<module>\u001b[0;34m\u001b[0m\n\u001b[1;32m     42\u001b[0m \u001b[0mtexto_2\u001b[0m \u001b[0;34m=\u001b[0m \u001b[0mfont_min\u001b[0m\u001b[0;34m.\u001b[0m\u001b[0mrender\u001b[0m\u001b[0;34m(\u001b[0m\u001b[0;34m'Pulse la tecla \"espacio\" para ver el resultado'\u001b[0m\u001b[0;34m,\u001b[0m \u001b[0;32mFalse\u001b[0m\u001b[0;34m,\u001b[0m \u001b[0;34m(\u001b[0m\u001b[0;36m0\u001b[0m\u001b[0;34m,\u001b[0m \u001b[0;36m0\u001b[0m\u001b[0;34m,\u001b[0m \u001b[0;36m0\u001b[0m\u001b[0;34m)\u001b[0m\u001b[0;34m)\u001b[0m\u001b[0;34m\u001b[0m\u001b[0;34m\u001b[0m\u001b[0m\n\u001b[1;32m     43\u001b[0m \u001b[0;34m\u001b[0m\u001b[0m\n\u001b[0;32m---> 44\u001b[0;31m \u001b[0mtext\u001b[0m \u001b[0;34m=\u001b[0m \u001b[0mfont\u001b[0m\u001b[0;34m.\u001b[0m\u001b[0mrender\u001b[0m\u001b[0;34m(\u001b[0m\u001b[0;34m(\u001b[0m\u001b[0mos\u001b[0m\u001b[0;34m.\u001b[0m\u001b[0mlistdir\u001b[0m\u001b[0;34m(\u001b[0m\u001b[0mtrain_dir\u001b[0m\u001b[0;34m)\u001b[0m\u001b[0;34m[\u001b[0m\u001b[0my\u001b[0m\u001b[0;34m[\u001b[0m\u001b[0;36m0\u001b[0m\u001b[0;34m]\u001b[0m\u001b[0;34m]\u001b[0m\u001b[0;34m)\u001b[0m\u001b[0;34m,\u001b[0m \u001b[0;32mTrue\u001b[0m\u001b[0;34m,\u001b[0m \u001b[0mgreen\u001b[0m\u001b[0;34m,\u001b[0m \u001b[0mblue\u001b[0m\u001b[0;34m)\u001b[0m\u001b[0;34m\u001b[0m\u001b[0;34m\u001b[0m\u001b[0m\n\u001b[0m\u001b[1;32m     45\u001b[0m \u001b[0;34m\u001b[0m\u001b[0m\n\u001b[1;32m     46\u001b[0m \u001b[0;34m\u001b[0m\u001b[0m\n",
      "\u001b[0;31mNameError\u001b[0m: name 'y' is not defined"
     ]
    }
   ],
   "source": [
    "import pygame \n",
    "\n",
    "# activate the pygame library \n",
    "# initiate pygame and give permission \n",
    "# to use pygame's functionality. \n",
    "pygame.init() \n",
    "\n",
    "# define the RGB value for white, \n",
    "# green, blue colour . \n",
    "white = (255, 255, 255) \n",
    "green = (0, 255, 0) \n",
    "blue = (0, 0, 128) \n",
    "\n",
    "# assigning values to X and Y variable \n",
    "X = 400\n",
    "Y = 400\n",
    "\n",
    "# create the display surface object \n",
    "# of specific dimension..e(X, Y). \n",
    "display_surface = pygame.display.set_mode((X, Y )) \n",
    "\n",
    "button = pygame.Rect(100, 100, 50, 50)  \n",
    "\n",
    "# set the pygame window name \n",
    "pygame.display.set_caption('Resultados de la validación') \n",
    "\n",
    "# create a font object. \n",
    "# 1st parameter is the font file \n",
    "# which is present in pygame. \n",
    "# 2nd parameter is size of the font \n",
    "font = pygame.font.Font('freesansbold.ttf', 32) \n",
    "font_min = pygame.font.SysFont(\"comicsansms\", 16) \n",
    "\n",
    "# create a text suface object, \n",
    "# on which text is drawn on it. \n",
    "\n",
    "Mensaje = font.render('Predicción del resultado', False, (0, 0, 0))\n",
    "\n",
    "\n",
    "texto = font_min.render('Introduce una foto en la carptea de validación', False, (0, 0, 0))\n",
    "\n",
    "texto_2 = font_min.render('Pulse la tecla \"espacio\" para ver el resultado', False, (0, 0, 0))\n",
    "\n",
    "text = font.render((os.listdir(train_dir)[y[0]]), True, green, blue) \n",
    "\n",
    "\n",
    "\n",
    "# create a rectangular object for the \n",
    "# text surface object \n",
    "textRect = text.get_rect()\n",
    "\n",
    "Mensaje_pos = Mensaje.get_rect()\n",
    "\n",
    "texto_pos = texto.get_rect()\n",
    "\n",
    "texto_pos_2 = texto_2.get_rect()\n",
    "\n",
    "\n",
    "\n",
    "\n",
    "\n",
    "# set the center of the rectangular object. \n",
    "textRect.center = (X // 2, Y // 2) \n",
    "Mensaje_pos.center = (X // 2, 30) \n",
    "texto_pos.center = (X // 2, 100)\n",
    "texto_pos_2.center = (X // 2, 150)\n",
    "\n",
    " \n",
    "\n",
    "\n",
    "while True:\n",
    "    display_surface.fill(white)\n",
    "    \n",
    "    display_surface.blit(Mensaje,Mensaje_pos)\n",
    "    display_surface.blit(texto,texto_pos)\n",
    "    display_surface.blit(texto_2,texto_pos_2)\n",
    "\n",
    "\n",
    "    \n",
    "    for event in pygame.event.get():\n",
    "        \n",
    "        if event.type == pygame.QUIT:\n",
    "            pygame.quit()\n",
    "            sys.exit()\n",
    "            \n",
    "        if event.type == pygame.KEYUP:\n",
    "            if event.key == pygame.K_SPACE:\n",
    "                    display_surface.blit(text,textRect)\n",
    "      \n",
    "                    \n",
    "        pygame.display.update()"
   ]
  },
  {
   "cell_type": "code",
   "execution_count": null,
   "metadata": {},
   "outputs": [],
   "source": []
  }
 ],
 "metadata": {
  "kernelspec": {
   "display_name": "Python 3.7.6 64-bit ('base': conda)",
   "language": "python",
   "name": "python37664bitbaseconda86c96a4ba10f4647a6cf2262845bd10b"
  },
  "language_info": {
   "codemirror_mode": {
    "name": "ipython",
    "version": 3
   },
   "file_extension": ".py",
   "mimetype": "text/x-python",
   "name": "python",
   "nbconvert_exporter": "python",
   "pygments_lexer": "ipython3",
   "version": "3.7.6-final"
  }
 },
 "nbformat": 4,
 "nbformat_minor": 4
}